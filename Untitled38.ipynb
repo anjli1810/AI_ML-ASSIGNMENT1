{
  "nbformat": 4,
  "nbformat_minor": 0,
  "metadata": {
    "colab": {
      "provenance": [],
      "authorship_tag": "ABX9TyMhf/DgYB1WwQBV3QJREYXk",
      "include_colab_link": true
    },
    "kernelspec": {
      "name": "python3",
      "display_name": "Python 3"
    },
    "language_info": {
      "name": "python"
    }
  },
  "cells": [
    {
      "cell_type": "markdown",
      "metadata": {
        "id": "view-in-github",
        "colab_type": "text"
      },
      "source": [
        "<a href=\"https://colab.research.google.com/github/anjli1810/AI_ML-ASSIGNMENT1/blob/main/Untitled38.ipynb\" target=\"_parent\"><img src=\"https://colab.research.google.com/assets/colab-badge.svg\" alt=\"Open In Colab\"/></a>"
      ]
    },
    {
      "cell_type": "code",
      "execution_count": 1,
      "metadata": {
        "colab": {
          "base_uri": "https://localhost:8080/"
        },
        "id": "ZDKKNmcgkxBK",
        "outputId": "d8d6e798-24da-4ca8-bc0a-117d7907667e"
      },
      "outputs": [
        {
          "output_type": "stream",
          "name": "stdout",
          "text": [
            "   rownames  id  time  dos hatype  age  airq  medication headache     sex\n",
            "0         1   1   -11  753   Aura   30   9.0  continuing      yes  female\n",
            "1         2   1   -10  754   Aura   30   7.0  continuing      yes  female\n",
            "2         3   1    -9  755   Aura   30  10.0  continuing      yes  female\n",
            "3         4   1    -8  756   Aura   30  13.0  continuing      yes  female\n",
            "4         5   1    -7  757   Aura   30  18.0  continuing      yes  female\n"
          ]
        }
      ],
      "source": [
        "# Import pandas library\n",
        "import pandas as pd\n",
        "\n",
        "# Dataset URL\n",
        "url = \"https://raw.githubusercontent.com/salemprakash/EDA/main/Data/KosteckiDillon.csv\"\n",
        "\n",
        "# Read the dataset\n",
        "df = pd.read_csv(url)\n",
        "\n",
        "# Display the first few rows\n",
        "print(df.head())\n"
      ]
    },
    {
      "cell_type": "code",
      "source": [],
      "metadata": {
        "id": "JHtdOM1mkxl-"
      },
      "execution_count": null,
      "outputs": []
    }
  ]
}